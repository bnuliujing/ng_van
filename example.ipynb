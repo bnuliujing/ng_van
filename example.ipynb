{
 "cells": [
  {
   "cell_type": "markdown",
   "metadata": {},
   "source": [
    "# ng-VAN example"
   ]
  },
  {
   "cell_type": "markdown",
   "metadata": {},
   "source": [
    "In the first example, we initialize the parameters and then employ both the natural gradient descent and Adam optimizer to minimize the variational free energy directly at $\\beta=1.0$.\n",
    "The exact value of free energy is $-0.891186$.\n",
    "Notably, the natural gradient method achieved convergence to this exact value in fewer than 100 epochs, whereas the Adam optimizer failed to converge even after 1000 epochs."
   ]
  },
  {
   "cell_type": "code",
   "execution_count": 1,
   "metadata": {},
   "outputs": [
    {
     "name": "stdout",
     "output_type": "stream",
     "text": [
      "beta: 1.00, f: -0.84955661, f_std: 0.038501048: 100%|█| 1000/1000 [00:53<00:00, \n"
     ]
    }
   ],
   "source": [
    "! python main.py --ham sk --n 30 --seed 1 --beta-init 1.0 --beta-final 1.0 --nn nade --hidden-dim 64 --lr 1e-3 --epochs 1000"
   ]
  },
  {
   "cell_type": "code",
   "execution_count": 2,
   "metadata": {},
   "outputs": [
    {
     "name": "stdout",
     "output_type": "stream",
     "text": [
      "beta: 1.00, f: -0.89072825, f_std: 0.0069538405: 100%|█| 100/100 [00:18<00:00,  \n"
     ]
    }
   ],
   "source": [
    "! python main.py --ham sk --n 30 --seed 1 --beta-init 1.0 --beta-final 1.0 --nn nade --hidden-dim 64 --nat-grad --lr 1e-1 --lambd 1e-3 --epochs 100"
   ]
  },
  {
   "cell_type": "markdown",
   "metadata": {},
   "source": [
    "In the second example, we follow the temperature annealing process to train the VAN.\n",
    "ng-VAN achieves lower variational free energy compared to conventional VAN."
   ]
  },
  {
   "cell_type": "code",
   "execution_count": 1,
   "metadata": {},
   "outputs": [
    {
     "name": "stdout",
     "output_type": "stream",
     "text": [
      "beta: 0.10, f: -6.9525675, f_std: 0.0071958358: 100%|█| 1000/1000 [00:40<00:00, \n",
      "beta: 0.20, f: -3.5077464, f_std: 0.0055284734: 100%|█| 1000/1000 [00:44<00:00, \n",
      "beta: 0.30, f: -2.3736323, f_std: 0.0055900181: 100%|█| 1000/1000 [00:32<00:00, \n",
      "beta: 0.40, f: -1.8162392, f_std: 0.0060011963: 100%|█| 1000/1000 [00:33<00:00, \n",
      "beta: 0.50, f: -1.4902002, f_std: 0.0060375581: 100%|█| 1000/1000 [00:30<00:00, \n",
      "beta: 0.60, f: -1.2795141, f_std: 0.0062306116: 100%|█| 1000/1000 [00:35<00:00, \n",
      "beta: 0.70, f: -1.1332012, f_std: 0.0067645152: 100%|█| 1000/1000 [00:46<00:00, \n",
      "beta: 0.80, f: -1.0288263, f_std: 0.0071395859: 100%|█| 1000/1000 [00:37<00:00, \n",
      "beta: 0.90, f: -0.95014267, f_std: 0.0075184683: 100%|█| 1000/1000 [00:31<00:00,\n",
      "beta: 1.00, f: -0.89016514, f_std: 0.0075600252: 100%|█| 1000/1000 [00:48<00:00,\n"
     ]
    }
   ],
   "source": [
    "! python main.py --ham sk --n 30 --seed 1 --beta-init 0.1 --beta-final 1.0 --nn nade --hidden-dim 64 --lr 1e-3 --epochs 1000"
   ]
  },
  {
   "cell_type": "code",
   "execution_count": 2,
   "metadata": {},
   "outputs": [
    {
     "name": "stdout",
     "output_type": "stream",
     "text": [
      "beta: 0.10, f: -6.952594, f_std: 0.00085410339: 100%|█| 1000/1000 [01:52<00:00, \n",
      "beta: 0.20, f: -3.5078974, f_std: 0.00082142887: 100%|█| 1000/1000 [02:00<00:00,\n",
      "beta: 0.30, f: -2.3736104, f_std: 0.00095111666: 100%|█| 1000/1000 [01:51<00:00,\n",
      "beta: 0.40, f: -1.8167394, f_std: 0.0012556568: 100%|█| 1000/1000 [01:53<00:00, \n",
      "beta: 0.50, f: -1.4905769, f_std: 0.0015517219: 100%|█| 1000/1000 [01:29<00:00, \n",
      "beta: 0.60, f: -1.2795072, f_std: 0.0017913606: 100%|█| 1000/1000 [01:22<00:00, \n",
      "beta: 0.70, f: -1.1339904, f_std: 0.0019411006: 100%|█| 1000/1000 [01:07<00:00, \n",
      "beta: 0.80, f: -1.0291885, f_std: 0.0022223478: 100%|█| 1000/1000 [01:05<00:00, \n",
      "beta: 0.90, f: -0.95088603, f_std: 0.0026121162: 100%|█| 1000/1000 [01:06<00:00,\n",
      "beta: 1.00, f: -0.89113738, f_std: 0.0029639718: 100%|█| 1000/1000 [01:11<00:00,\n"
     ]
    }
   ],
   "source": [
    "! python main.py --ham sk --n 30 --seed 1 --beta-init 0.1 --beta-final 1.0 --nn nade --hidden-dim 64 --nat-grad --lr 1e-1 --epochs 1000"
   ]
  },
  {
   "cell_type": "code",
   "execution_count": null,
   "metadata": {},
   "outputs": [],
   "source": []
  }
 ],
 "metadata": {
  "kernelspec": {
   "display_name": "dev",
   "language": "python",
   "name": "python3"
  },
  "language_info": {
   "codemirror_mode": {
    "name": "ipython",
    "version": 3
   },
   "file_extension": ".py",
   "mimetype": "text/x-python",
   "name": "python",
   "nbconvert_exporter": "python",
   "pygments_lexer": "ipython3",
   "version": "3.10.14"
  }
 },
 "nbformat": 4,
 "nbformat_minor": 2
}
